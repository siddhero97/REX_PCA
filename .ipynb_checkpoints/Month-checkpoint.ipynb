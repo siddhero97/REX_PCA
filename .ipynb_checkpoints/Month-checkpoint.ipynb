{
 "cells": [
  {
   "cell_type": "code",
   "execution_count": 1,
   "metadata": {},
   "outputs": [],
   "source": [
    "# Importing required packages\n",
    "\n",
    "import matplotlib.pyplot as plt\n",
    "import seaborn as sns\n",
    "import pandas as pd\n",
    "import numpy as np\n",
    "import warnings\n",
    "import datetime as dt\n",
    "\n",
    "%matplotlib inline"
   ]
  },
  {
   "cell_type": "code",
   "execution_count": 2,
   "metadata": {},
   "outputs": [],
   "source": [
    "# Removing the minimum display columns to 500\n",
    "pd.set_option('display.max_columns', 500)\n",
    "pd.set_option('display.max_rows', 500)\n",
    "\n",
    "# Ignoring warnings\n",
    "warnings.filterwarnings(\"ignore\")"
   ]
  },
  {
   "cell_type": "code",
   "execution_count": 5,
   "metadata": {},
   "outputs": [],
   "source": [
    "rex = pd.read_csv(\"CO_REX.csv\")"
   ]
  },
  {
   "cell_type": "code",
   "execution_count": 6,
   "metadata": {},
   "outputs": [
    {
     "data": {
      "text/html": [
       "<div>\n",
       "<style scoped>\n",
       "    .dataframe tbody tr th:only-of-type {\n",
       "        vertical-align: middle;\n",
       "    }\n",
       "\n",
       "    .dataframe tbody tr th {\n",
       "        vertical-align: top;\n",
       "    }\n",
       "\n",
       "    .dataframe thead th {\n",
       "        text-align: right;\n",
       "    }\n",
       "</style>\n",
       "<table border=\"1\" class=\"dataframe\">\n",
       "  <thead>\n",
       "    <tr style=\"text-align: right;\">\n",
       "      <th></th>\n",
       "      <th>datetime</th>\n",
       "      <th>CO</th>\n",
       "    </tr>\n",
       "  </thead>\n",
       "  <tbody>\n",
       "    <tr>\n",
       "      <th>0</th>\n",
       "      <td>14/08/2020 00:00</td>\n",
       "      <td>0.29</td>\n",
       "    </tr>\n",
       "    <tr>\n",
       "      <th>1</th>\n",
       "      <td>14/08/2020 00:01</td>\n",
       "      <td>0.29</td>\n",
       "    </tr>\n",
       "    <tr>\n",
       "      <th>2</th>\n",
       "      <td>14/08/2020 00:02</td>\n",
       "      <td>0.29</td>\n",
       "    </tr>\n",
       "    <tr>\n",
       "      <th>3</th>\n",
       "      <td>14/08/2020 00:03</td>\n",
       "      <td>0.28</td>\n",
       "    </tr>\n",
       "    <tr>\n",
       "      <th>4</th>\n",
       "      <td>14/08/2020 00:04</td>\n",
       "      <td>0.28</td>\n",
       "    </tr>\n",
       "  </tbody>\n",
       "</table>\n",
       "</div>"
      ],
      "text/plain": [
       "           datetime    CO\n",
       "0  14/08/2020 00:00  0.29\n",
       "1  14/08/2020 00:01  0.29\n",
       "2  14/08/2020 00:02  0.29\n",
       "3  14/08/2020 00:03  0.28\n",
       "4  14/08/2020 00:04  0.28"
      ]
     },
     "execution_count": 6,
     "metadata": {},
     "output_type": "execute_result"
    }
   ],
   "source": [
    "rex.head()"
   ]
  },
  {
   "cell_type": "code",
   "execution_count": 23,
   "metadata": {},
   "outputs": [
    {
     "data": {
      "text/html": [
       "<div>\n",
       "<style scoped>\n",
       "    .dataframe tbody tr th:only-of-type {\n",
       "        vertical-align: middle;\n",
       "    }\n",
       "\n",
       "    .dataframe tbody tr th {\n",
       "        vertical-align: top;\n",
       "    }\n",
       "\n",
       "    .dataframe thead th {\n",
       "        text-align: right;\n",
       "    }\n",
       "</style>\n",
       "<table border=\"1\" class=\"dataframe\">\n",
       "  <thead>\n",
       "    <tr style=\"text-align: right;\">\n",
       "      <th></th>\n",
       "      <th>CO</th>\n",
       "    </tr>\n",
       "  </thead>\n",
       "  <tbody>\n",
       "    <tr>\n",
       "      <th>count</th>\n",
       "      <td>29976.000000</td>\n",
       "    </tr>\n",
       "    <tr>\n",
       "      <th>mean</th>\n",
       "      <td>0.276325</td>\n",
       "    </tr>\n",
       "    <tr>\n",
       "      <th>std</th>\n",
       "      <td>0.147355</td>\n",
       "    </tr>\n",
       "    <tr>\n",
       "      <th>min</th>\n",
       "      <td>0.080000</td>\n",
       "    </tr>\n",
       "    <tr>\n",
       "      <th>25%</th>\n",
       "      <td>0.190000</td>\n",
       "    </tr>\n",
       "    <tr>\n",
       "      <th>50%</th>\n",
       "      <td>0.240000</td>\n",
       "    </tr>\n",
       "    <tr>\n",
       "      <th>75%</th>\n",
       "      <td>0.320000</td>\n",
       "    </tr>\n",
       "    <tr>\n",
       "      <th>max</th>\n",
       "      <td>5.630000</td>\n",
       "    </tr>\n",
       "  </tbody>\n",
       "</table>\n",
       "</div>"
      ],
      "text/plain": [
       "                 CO\n",
       "count  29976.000000\n",
       "mean       0.276325\n",
       "std        0.147355\n",
       "min        0.080000\n",
       "25%        0.190000\n",
       "50%        0.240000\n",
       "75%        0.320000\n",
       "max        5.630000"
      ]
     },
     "execution_count": 23,
     "metadata": {},
     "output_type": "execute_result"
    }
   ],
   "source": [
    "rex.describe()"
   ]
  },
  {
   "cell_type": "code",
   "execution_count": 20,
   "metadata": {},
   "outputs": [
    {
     "data": {
      "text/plain": [
       "'14/08/2020'"
      ]
     },
     "execution_count": 20,
     "metadata": {},
     "output_type": "execute_result"
    }
   ],
   "source": [
    "rex[\"datetime\"][0][:-6]"
   ]
  },
  {
   "cell_type": "code",
   "execution_count": 21,
   "metadata": {},
   "outputs": [],
   "source": [
    "rex[\"date\"]=rex[\"datetime\"].apply(lambda x: dt.datetime.strptime(x[:-6],'%d/%m/%Y'))"
   ]
  },
  {
   "cell_type": "code",
   "execution_count": 27,
   "metadata": {},
   "outputs": [],
   "source": [
    "rex[\"microseconds\"]=rex[\"datetime\"].apply(lambda x: dt.datetime.strptime(x[:-6],'%d/%m/%Y').timestamp())"
   ]
  },
  {
   "cell_type": "code",
   "execution_count": 36,
   "metadata": {},
   "outputs": [
    {
     "data": {
      "text/plain": [
       "0       2020-08-14\n",
       "1       2020-08-14\n",
       "2       2020-08-14\n",
       "3       2020-08-14\n",
       "4       2020-08-14\n",
       "           ...    \n",
       "33115   2020-09-05\n",
       "33116   2020-09-05\n",
       "33117   2020-09-05\n",
       "33118   2020-09-05\n",
       "33119   2020-09-05\n",
       "Name: date, Length: 29976, dtype: datetime64[ns]"
      ]
     },
     "execution_count": 36,
     "metadata": {},
     "output_type": "execute_result"
    }
   ],
   "source": [
    "rex[\"date\"]"
   ]
  },
  {
   "cell_type": "code",
   "execution_count": 37,
   "metadata": {},
   "outputs": [
    {
     "data": {
      "text/html": [
       "<div>\n",
       "<style scoped>\n",
       "    .dataframe tbody tr th:only-of-type {\n",
       "        vertical-align: middle;\n",
       "    }\n",
       "\n",
       "    .dataframe tbody tr th {\n",
       "        vertical-align: top;\n",
       "    }\n",
       "\n",
       "    .dataframe thead th {\n",
       "        text-align: right;\n",
       "    }\n",
       "</style>\n",
       "<table border=\"1\" class=\"dataframe\">\n",
       "  <thead>\n",
       "    <tr style=\"text-align: right;\">\n",
       "      <th></th>\n",
       "      <th>CO</th>\n",
       "      <th>microseconds</th>\n",
       "    </tr>\n",
       "    <tr>\n",
       "      <th>date</th>\n",
       "      <th></th>\n",
       "      <th></th>\n",
       "    </tr>\n",
       "  </thead>\n",
       "  <tbody>\n",
       "    <tr>\n",
       "      <th>2020-08-14</th>\n",
       "      <td>0.318798</td>\n",
       "      <td>1.597343e+09</td>\n",
       "    </tr>\n",
       "    <tr>\n",
       "      <th>2020-08-15</th>\n",
       "      <td>0.357695</td>\n",
       "      <td>1.597430e+09</td>\n",
       "    </tr>\n",
       "    <tr>\n",
       "      <th>2020-08-16</th>\n",
       "      <td>0.356859</td>\n",
       "      <td>1.597516e+09</td>\n",
       "    </tr>\n",
       "    <tr>\n",
       "      <th>2020-08-17</th>\n",
       "      <td>0.279123</td>\n",
       "      <td>1.597603e+09</td>\n",
       "    </tr>\n",
       "    <tr>\n",
       "      <th>2020-08-18</th>\n",
       "      <td>0.236416</td>\n",
       "      <td>1.597689e+09</td>\n",
       "    </tr>\n",
       "    <tr>\n",
       "      <th>2020-08-19</th>\n",
       "      <td>0.251372</td>\n",
       "      <td>1.597775e+09</td>\n",
       "    </tr>\n",
       "    <tr>\n",
       "      <th>2020-08-20</th>\n",
       "      <td>0.239445</td>\n",
       "      <td>1.597862e+09</td>\n",
       "    </tr>\n",
       "    <tr>\n",
       "      <th>2020-08-21</th>\n",
       "      <td>0.245419</td>\n",
       "      <td>1.597948e+09</td>\n",
       "    </tr>\n",
       "    <tr>\n",
       "      <th>2020-08-22</th>\n",
       "      <td>0.232218</td>\n",
       "      <td>1.598035e+09</td>\n",
       "    </tr>\n",
       "    <tr>\n",
       "      <th>2020-08-23</th>\n",
       "      <td>0.216608</td>\n",
       "      <td>1.598121e+09</td>\n",
       "    </tr>\n",
       "    <tr>\n",
       "      <th>2020-08-24</th>\n",
       "      <td>0.270670</td>\n",
       "      <td>1.598207e+09</td>\n",
       "    </tr>\n",
       "    <tr>\n",
       "      <th>2020-08-25</th>\n",
       "      <td>0.288277</td>\n",
       "      <td>1.598294e+09</td>\n",
       "    </tr>\n",
       "    <tr>\n",
       "      <th>2020-08-26</th>\n",
       "      <td>0.308204</td>\n",
       "      <td>1.598380e+09</td>\n",
       "    </tr>\n",
       "    <tr>\n",
       "      <th>2020-08-27</th>\n",
       "      <td>0.327572</td>\n",
       "      <td>1.598467e+09</td>\n",
       "    </tr>\n",
       "    <tr>\n",
       "      <th>2020-08-28</th>\n",
       "      <td>0.307055</td>\n",
       "      <td>1.598553e+09</td>\n",
       "    </tr>\n",
       "    <tr>\n",
       "      <th>2020-08-29</th>\n",
       "      <td>0.147424</td>\n",
       "      <td>1.598639e+09</td>\n",
       "    </tr>\n",
       "    <tr>\n",
       "      <th>2020-08-30</th>\n",
       "      <td>0.241854</td>\n",
       "      <td>1.598726e+09</td>\n",
       "    </tr>\n",
       "    <tr>\n",
       "      <th>2020-08-31</th>\n",
       "      <td>0.254154</td>\n",
       "      <td>1.598812e+09</td>\n",
       "    </tr>\n",
       "    <tr>\n",
       "      <th>2020-09-01</th>\n",
       "      <td>0.270971</td>\n",
       "      <td>1.598899e+09</td>\n",
       "    </tr>\n",
       "    <tr>\n",
       "      <th>2020-09-02</th>\n",
       "      <td>0.273087</td>\n",
       "      <td>1.598985e+09</td>\n",
       "    </tr>\n",
       "    <tr>\n",
       "      <th>2020-09-03</th>\n",
       "      <td>0.296849</td>\n",
       "      <td>1.599071e+09</td>\n",
       "    </tr>\n",
       "    <tr>\n",
       "      <th>2020-09-04</th>\n",
       "      <td>0.368910</td>\n",
       "      <td>1.599158e+09</td>\n",
       "    </tr>\n",
       "    <tr>\n",
       "      <th>2020-09-05</th>\n",
       "      <td>0.265388</td>\n",
       "      <td>1.599244e+09</td>\n",
       "    </tr>\n",
       "  </tbody>\n",
       "</table>\n",
       "</div>"
      ],
      "text/plain": [
       "                  CO  microseconds\n",
       "date                              \n",
       "2020-08-14  0.318798  1.597343e+09\n",
       "2020-08-15  0.357695  1.597430e+09\n",
       "2020-08-16  0.356859  1.597516e+09\n",
       "2020-08-17  0.279123  1.597603e+09\n",
       "2020-08-18  0.236416  1.597689e+09\n",
       "2020-08-19  0.251372  1.597775e+09\n",
       "2020-08-20  0.239445  1.597862e+09\n",
       "2020-08-21  0.245419  1.597948e+09\n",
       "2020-08-22  0.232218  1.598035e+09\n",
       "2020-08-23  0.216608  1.598121e+09\n",
       "2020-08-24  0.270670  1.598207e+09\n",
       "2020-08-25  0.288277  1.598294e+09\n",
       "2020-08-26  0.308204  1.598380e+09\n",
       "2020-08-27  0.327572  1.598467e+09\n",
       "2020-08-28  0.307055  1.598553e+09\n",
       "2020-08-29  0.147424  1.598639e+09\n",
       "2020-08-30  0.241854  1.598726e+09\n",
       "2020-08-31  0.254154  1.598812e+09\n",
       "2020-09-01  0.270971  1.598899e+09\n",
       "2020-09-02  0.273087  1.598985e+09\n",
       "2020-09-03  0.296849  1.599071e+09\n",
       "2020-09-04  0.368910  1.599158e+09\n",
       "2020-09-05  0.265388  1.599244e+09"
      ]
     },
     "execution_count": 37,
     "metadata": {},
     "output_type": "execute_result"
    }
   ],
   "source": [
    "rex.groupby(\"date\").mean()"
   ]
  },
  {
   "cell_type": "code",
   "execution_count": 28,
   "metadata": {},
   "outputs": [
    {
     "data": {
      "text/html": [
       "<div>\n",
       "<style scoped>\n",
       "    .dataframe tbody tr th:only-of-type {\n",
       "        vertical-align: middle;\n",
       "    }\n",
       "\n",
       "    .dataframe tbody tr th {\n",
       "        vertical-align: top;\n",
       "    }\n",
       "\n",
       "    .dataframe thead th {\n",
       "        text-align: right;\n",
       "    }\n",
       "</style>\n",
       "<table border=\"1\" class=\"dataframe\">\n",
       "  <thead>\n",
       "    <tr style=\"text-align: right;\">\n",
       "      <th></th>\n",
       "      <th>CO</th>\n",
       "    </tr>\n",
       "    <tr>\n",
       "      <th>microseconds</th>\n",
       "      <th></th>\n",
       "    </tr>\n",
       "  </thead>\n",
       "  <tbody>\n",
       "    <tr>\n",
       "      <th>1.597343e+09</th>\n",
       "      <td>0.318798</td>\n",
       "    </tr>\n",
       "    <tr>\n",
       "      <th>1.597430e+09</th>\n",
       "      <td>0.357695</td>\n",
       "    </tr>\n",
       "    <tr>\n",
       "      <th>1.597516e+09</th>\n",
       "      <td>0.356859</td>\n",
       "    </tr>\n",
       "    <tr>\n",
       "      <th>1.597603e+09</th>\n",
       "      <td>0.279123</td>\n",
       "    </tr>\n",
       "    <tr>\n",
       "      <th>1.597689e+09</th>\n",
       "      <td>0.236416</td>\n",
       "    </tr>\n",
       "    <tr>\n",
       "      <th>1.597775e+09</th>\n",
       "      <td>0.251372</td>\n",
       "    </tr>\n",
       "    <tr>\n",
       "      <th>1.597862e+09</th>\n",
       "      <td>0.239445</td>\n",
       "    </tr>\n",
       "    <tr>\n",
       "      <th>1.597948e+09</th>\n",
       "      <td>0.245419</td>\n",
       "    </tr>\n",
       "    <tr>\n",
       "      <th>1.598035e+09</th>\n",
       "      <td>0.232218</td>\n",
       "    </tr>\n",
       "    <tr>\n",
       "      <th>1.598121e+09</th>\n",
       "      <td>0.216608</td>\n",
       "    </tr>\n",
       "    <tr>\n",
       "      <th>1.598207e+09</th>\n",
       "      <td>0.270670</td>\n",
       "    </tr>\n",
       "    <tr>\n",
       "      <th>1.598294e+09</th>\n",
       "      <td>0.288277</td>\n",
       "    </tr>\n",
       "    <tr>\n",
       "      <th>1.598380e+09</th>\n",
       "      <td>0.308204</td>\n",
       "    </tr>\n",
       "    <tr>\n",
       "      <th>1.598467e+09</th>\n",
       "      <td>0.327572</td>\n",
       "    </tr>\n",
       "    <tr>\n",
       "      <th>1.598553e+09</th>\n",
       "      <td>0.307055</td>\n",
       "    </tr>\n",
       "    <tr>\n",
       "      <th>1.598639e+09</th>\n",
       "      <td>0.147424</td>\n",
       "    </tr>\n",
       "    <tr>\n",
       "      <th>1.598726e+09</th>\n",
       "      <td>0.241854</td>\n",
       "    </tr>\n",
       "    <tr>\n",
       "      <th>1.598812e+09</th>\n",
       "      <td>0.254154</td>\n",
       "    </tr>\n",
       "    <tr>\n",
       "      <th>1.598899e+09</th>\n",
       "      <td>0.270971</td>\n",
       "    </tr>\n",
       "    <tr>\n",
       "      <th>1.598985e+09</th>\n",
       "      <td>0.273087</td>\n",
       "    </tr>\n",
       "    <tr>\n",
       "      <th>1.599071e+09</th>\n",
       "      <td>0.296849</td>\n",
       "    </tr>\n",
       "    <tr>\n",
       "      <th>1.599158e+09</th>\n",
       "      <td>0.368910</td>\n",
       "    </tr>\n",
       "    <tr>\n",
       "      <th>1.599244e+09</th>\n",
       "      <td>0.265388</td>\n",
       "    </tr>\n",
       "  </tbody>\n",
       "</table>\n",
       "</div>"
      ],
      "text/plain": [
       "                    CO\n",
       "microseconds          \n",
       "1.597343e+09  0.318798\n",
       "1.597430e+09  0.357695\n",
       "1.597516e+09  0.356859\n",
       "1.597603e+09  0.279123\n",
       "1.597689e+09  0.236416\n",
       "1.597775e+09  0.251372\n",
       "1.597862e+09  0.239445\n",
       "1.597948e+09  0.245419\n",
       "1.598035e+09  0.232218\n",
       "1.598121e+09  0.216608\n",
       "1.598207e+09  0.270670\n",
       "1.598294e+09  0.288277\n",
       "1.598380e+09  0.308204\n",
       "1.598467e+09  0.327572\n",
       "1.598553e+09  0.307055\n",
       "1.598639e+09  0.147424\n",
       "1.598726e+09  0.241854\n",
       "1.598812e+09  0.254154\n",
       "1.598899e+09  0.270971\n",
       "1.598985e+09  0.273087\n",
       "1.599071e+09  0.296849\n",
       "1.599158e+09  0.368910\n",
       "1.599244e+09  0.265388"
      ]
     },
     "execution_count": 28,
     "metadata": {},
     "output_type": "execute_result"
    }
   ],
   "source": [
    "rex.groupby('microseconds').mean()"
   ]
  },
  {
   "cell_type": "code",
   "execution_count": 29,
   "metadata": {},
   "outputs": [],
   "source": [
    "rex = rex.dropna()"
   ]
  },
  {
   "cell_type": "code",
   "execution_count": 30,
   "metadata": {},
   "outputs": [],
   "source": [
    "X = rex[[\"CO\",\"microseconds\"]]"
   ]
  },
  {
   "cell_type": "code",
   "execution_count": 31,
   "metadata": {},
   "outputs": [
    {
     "data": {
      "image/png": "[encoded data removed]",
      "text/plain": [
       "<Figure size 432x288 with 1 Axes>"
      ]
     },
     "metadata": {
      "needs_background": "light"
     },
     "output_type": "display_data"
    }
   ],
   "source": [
    "plt.scatter(X[\"microseconds\"], X[\"CO\"])\n",
    "plt.show()"
   ]
  },
  {
   "cell_type": "code",
   "execution_count": 33,
   "metadata": {},
   "outputs": [],
   "source": [
    "from sklearn.preprocessing import StandardScaler\n",
    "scaler = StandardScaler()\n",
    "X=scaler.fit_transform(X)\n",
    "#print(X[:,0].describe())"
   ]
  },
  {
   "cell_type": "code",
   "execution_count": 34,
   "metadata": {},
   "outputs": [
    {
     "data": {
      "image/png": "[encoded data removed]",
      "text/plain": [
       "<Figure size 432x288 with 1 Axes>"
      ]
     },
     "metadata": {
      "needs_background": "light"
     },
     "output_type": "display_data"
    }
   ],
   "source": [
    "plt.scatter(X[:,1], X[:,0])\n",
    "plt.show()"
   ]
  },
  {
   "cell_type": "code",
   "execution_count": 35,
   "metadata": {},
   "outputs": [],
   "source": [
    "from sklearn.decomposition import PCA\n",
    "pca = PCA(n_components=2)\n",
    "principalComponents = pca.fit_transform(X)\n",
    "principalDf = pd.DataFrame(data = principalComponents\n",
    "             , columns = ['principal component 1', 'principal component 2'])"
   ]
  },
  {
   "cell_type": "code",
   "execution_count": 38,
   "metadata": {},
   "outputs": [
    {
     "data": {
      "image/png": "[encoded data removed]",
      "text/plain": [
       "<Figure size 432x288 with 1 Axes>"
      ]
     },
     "metadata": {
      "needs_background": "light"
     },
     "output_type": "display_data"
    }
   ],
   "source": [
    "plt.scatter(principalDf[\"principal component 1\"],principalDf[\"principal component 2\"])\n",
    "plt.show()"
   ]
  },
  {
   "cell_type": "code",
   "execution_count": null,
   "metadata": {},
   "outputs": [],
   "source": []
  }
 ],
 "metadata": {
  "kernelspec": {
   "display_name": "Python 3",
   "language": "python",
   "name": "python3"
  },
  "language_info": {
   "codemirror_mode": {
    "name": "ipython",
    "version": 3
   },
   "file_extension": ".py",
   "mimetype": "text/x-python",
   "name": "python",
   "nbconvert_exporter": "python",
   "pygments_lexer": "ipython3",
   "version": "3.7.6"
  }
 },
 "nbformat": 4,
 "nbformat_minor": 4
}
